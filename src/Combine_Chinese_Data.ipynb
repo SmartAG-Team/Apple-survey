{
 "cells": [
  {
   "cell_type": "code",
   "execution_count": 55,
   "id": "30e2ec24-ce33-4302-929e-47521fa071f8",
   "metadata": {},
   "outputs": [],
   "source": [
    "import pandas as pd\n",
    "from openpyxl import Workbook\n",
    "from openpyxl.styles import Font\n",
    "from openpyxl.utils.dataframe import dataframe_to_rows\n",
    "from openpyxl.styles import Font, Alignment"
   ]
  },
  {
   "cell_type": "code",
   "execution_count": 57,
   "id": "9c9821fe-a66c-4039-b57d-d673d71a6393",
   "metadata": {},
   "outputs": [],
   "source": [
    "df1 = pd.read_excel(\"Y:/BaiduSyncdisk/YAO_2023/Apple/原始数据/GitHub_content/data/raw_data_separate source/raw_data_chinese_wechat.xlsx\")\n",
    "df2 = pd.read_excel(\"Y:/BaiduSyncdisk/YAO_2023/Apple/原始数据/GitHub_content/data/raw_data_separate source/raw_data_chinese_telephone.xlsx\")"
   ]
  },
  {
   "cell_type": "code",
   "execution_count": 59,
   "id": "786d7696-b92d-401a-ab02-cf04c2559c1b",
   "metadata": {},
   "outputs": [],
   "source": [
    "df1['序号'] = range(1, len(df1) + 1)\n",
    "df2['序号'] = range(len(df1) + 1, len(df1) + len(df2) + 1)"
   ]
  },
  {
   "cell_type": "code",
   "execution_count": 61,
   "id": "645431c7-5fd3-456e-aa7c-91f8dea854f2",
   "metadata": {},
   "outputs": [],
   "source": [
    "df_combined = pd.concat([df1, df2], ignore_index=True)"
   ]
  },
  {
   "cell_type": "code",
   "execution_count": 63,
   "id": "e1dccf91-e8dc-4a59-b44a-56c60d41ae3f",
   "metadata": {},
   "outputs": [],
   "source": [
    "wb = Workbook()\n",
    "ws = wb.active\n",
    "ws.title = \"Merged Data\""
   ]
  },
  {
   "cell_type": "code",
   "execution_count": 65,
   "id": "8ba9a3ad-7479-41e9-a835-03540ff47888",
   "metadata": {},
   "outputs": [],
   "source": [
    "ws.append(df_combined.columns.tolist())"
   ]
  },
  {
   "cell_type": "code",
   "execution_count": 67,
   "id": "b85bb2ff-5f42-4564-b160-f9007690e12a",
   "metadata": {},
   "outputs": [],
   "source": [
    "for r in df_combined.itertuples(index=False, name=None):\n",
    "    ws.append(r)"
   ]
  },
  {
   "cell_type": "code",
   "execution_count": 69,
   "id": "bb3599e1-6287-4dfc-9750-389f20d4c66f",
   "metadata": {},
   "outputs": [],
   "source": [
    "font_times = Font(name=\"宋体\")\n",
    "for row in ws.iter_rows(min_row=1, max_col=ws.max_column, max_row=ws.max_row):\n",
    "    for cell in row:\n",
    "        cell.font = font_times\n",
    "        cell.alignment = Alignment(horizontal='left')"
   ]
  },
  {
   "cell_type": "code",
   "execution_count": 71,
   "id": "0db375ed-01b2-4f8a-b08e-a8b020e46622",
   "metadata": {},
   "outputs": [],
   "source": [
    "wb.save('raw_data_chinese_total.xlsx')"
   ]
  },
  {
   "cell_type": "code",
   "execution_count": null,
   "id": "5ff98386-5b49-478d-b916-90cc8dbf6106",
   "metadata": {},
   "outputs": [],
   "source": []
  }
 ],
 "metadata": {
  "kernelspec": {
   "display_name": "Python 3 (ipykernel)",
   "language": "python",
   "name": "python3"
  },
  "language_info": {
   "codemirror_mode": {
    "name": "ipython",
    "version": 3
   },
   "file_extension": ".py",
   "mimetype": "text/x-python",
   "name": "python",
   "nbconvert_exporter": "python",
   "pygments_lexer": "ipython3",
   "version": "3.11.7"
  }
 },
 "nbformat": 4,
 "nbformat_minor": 5
}

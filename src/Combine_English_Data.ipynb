{
 "cells": [
  {
   "cell_type": "code",
   "execution_count": 58,
   "id": "de7b5047-f453-4955-8893-abb66675ee00",
   "metadata": {},
   "outputs": [],
   "source": [
    "import pandas as pd\n",
    "from openpyxl import Workbook\n",
    "from openpyxl.styles import Font\n",
    "from openpyxl.utils.dataframe import dataframe_to_rows\n",
    "from openpyxl.styles import Font, Alignment"
   ]
  },
  {
   "cell_type": "code",
   "execution_count": 60,
   "id": "5e49ae57-4629-4e8a-9f66-6ed7e0e10e5d",
   "metadata": {},
   "outputs": [],
   "source": [
    "df1 = pd.read_excel(\"Y:/BaiduSyncdisk/YAO_2023/Apple/原始数据/GitHub_content/data/raw_data_separate source/raw_data_english_wechat.xlsx\")\n",
    "df2 = pd.read_excel(\"Y:/BaiduSyncdisk/YAO_2023/Apple/原始数据/GitHub_content/data/raw_data_separate source/raw_data_english_telephone.xlsx\")"
   ]
  },
  {
   "cell_type": "code",
   "execution_count": 62,
   "id": "8eb01a8e-a12c-4aaf-a347-f2686cb994ae",
   "metadata": {},
   "outputs": [],
   "source": [
    "df1['No.'] = range(1, len(df1) + 1)\n",
    "df2['No.'] = range(len(df1) + 1, len(df1) + len(df2) + 1)"
   ]
  },
  {
   "cell_type": "code",
   "execution_count": 64,
   "id": "eb030d25-4e36-4f46-8531-b3685f90e3c8",
   "metadata": {},
   "outputs": [],
   "source": [
    "df_combined = pd.concat([df1, df2], ignore_index=True)"
   ]
  },
  {
   "cell_type": "code",
   "execution_count": 66,
   "id": "39fc48f5-64fa-4f15-ba9c-ae2573fdb1de",
   "metadata": {},
   "outputs": [],
   "source": [
    "wb = Workbook()\n",
    "ws = wb.active\n",
    "ws.title = \"Merged Data\""
   ]
  },
  {
   "cell_type": "code",
   "execution_count": 68,
   "id": "4ec62d7b-5486-4dce-9029-0721f1c2744b",
   "metadata": {},
   "outputs": [],
   "source": [
    "ws.append(df_combined.columns.tolist())"
   ]
  },
  {
   "cell_type": "code",
   "execution_count": 70,
   "id": "9ebab840-7ee6-4c32-9b64-1c296b2de4e7",
   "metadata": {},
   "outputs": [],
   "source": [
    "for r in df_combined.itertuples(index=False, name=None):\n",
    "    ws.append(r)"
   ]
  },
  {
   "cell_type": "code",
   "execution_count": 72,
   "id": "3dc72ce3-0ead-46c3-adcd-74ad581dd905",
   "metadata": {},
   "outputs": [],
   "source": [
    "font_times = Font(name=\"Times New Roman\")\n",
    "for row in ws.iter_rows(min_row=1, max_col=ws.max_column, max_row=ws.max_row):\n",
    "    for cell in row:\n",
    "        cell.font = font_times\n",
    "        cell.alignment = Alignment(horizontal='left')"
   ]
  },
  {
   "cell_type": "code",
   "execution_count": 74,
   "id": "b677c948-cb88-4e73-a8fb-86f8e4b5ca5b",
   "metadata": {},
   "outputs": [],
   "source": [
    "wb.save('raw_data_english_total.xlsx')"
   ]
  },
  {
   "cell_type": "code",
   "execution_count": null,
   "id": "e23a6846-427a-4da8-bae5-3493bec241bf",
   "metadata": {},
   "outputs": [],
   "source": []
  }
 ],
 "metadata": {
  "kernelspec": {
   "display_name": "Python 3 (ipykernel)",
   "language": "python",
   "name": "python3"
  },
  "language_info": {
   "codemirror_mode": {
    "name": "ipython",
    "version": 3
   },
   "file_extension": ".py",
   "mimetype": "text/x-python",
   "name": "python",
   "nbconvert_exporter": "python",
   "pygments_lexer": "ipython3",
   "version": "3.11.7"
  }
 },
 "nbformat": 4,
 "nbformat_minor": 5
}
